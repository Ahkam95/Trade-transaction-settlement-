{
 "cells": [
  {
   "cell_type": "code",
   "execution_count": 1,
   "metadata": {},
   "outputs": [
    {
     "name": "stderr",
     "output_type": "stream",
     "text": [
      "Using backend: pytorch\n"
     ]
    }
   ],
   "source": [
    "import networkx as nx\n",
    "import dgl\n",
    "import torch\n",
    "import matplotlib.pyplot as plt"
   ]
  },
  {
   "cell_type": "code",
   "execution_count": 2,
   "metadata": {},
   "outputs": [],
   "source": [
    "import torch as th\n",
    "import numpy as np\n",
    "import scipy.sparse as spp\n",
    "\n",
    "# Create the same graph from a list of integer pairs.\n",
    "edge_list = [(0, 1),(1, 2),(2, 3),(2,6), (3, 4),(4, 5),(6, 7),(7, 8),(8, 6),(8, 9)]\n",
    "graph_skelton = dgl.DGLGraph(edge_list)"
   ]
  },
  {
   "cell_type": "code",
   "execution_count": 3,
   "metadata": {
    "scrolled": true
   },
   "outputs": [
    {
     "data": {
      "image/png": "[encoded data removed]",
      "text/plain": [
       "<Figure size 432x288 with 1 Axes>"
      ]
     },
     "metadata": {},
     "output_type": "display_data"
    }
   ],
   "source": [
    "# Visualize the graph.\n",
    "#graph_skelton.add_edges([9, 0])\n",
    "nx.draw(graph_skelton.to_networkx(), with_labels=True)\n",
    "plt.show()"
   ]
  },
  {
   "cell_type": "code",
   "execution_count": 4,
   "metadata": {},
   "outputs": [],
   "source": [
    "# I assigned weights as transaction amount between two traders\n",
    "x = th.tensor([10.0,20.0,40.0,20.0,50.0,80.0,70.0,10.0,40.0,20.0])\n",
    "graph_skelton.edata['edge_weights'] = x"
   ]
  },
  {
   "cell_type": "code",
   "execution_count": 5,
   "metadata": {},
   "outputs": [],
   "source": [
    "#assigning mp value for each account for easy graph traversal\n",
    "y = th.tensor([0.0,0.0,0.0,0.0,0.0,0.0,0.0,0.0,0.0,0.0])\n",
    "graph_skelton.ndata['mp_value'] = y"
   ]
  },
  {
   "cell_type": "code",
   "execution_count": 6,
   "metadata": {},
   "outputs": [],
   "source": [
    "# security balance\n",
    "account_balance = th.tensor([20.0,100.0, 30.0,60.0,10.0,50.0,30.0,70.0,10.0,30.0])\n",
    "graph_skelton.ndata['balance'] = account_balance"
   ]
  },
  {
   "cell_type": "code",
   "execution_count": 7,
   "metadata": {},
   "outputs": [],
   "source": [
    "#graph_skelton.edata['edge_weights'][graph_skelton.edge_id(8, 6)]"
   ]
  },
  {
   "cell_type": "code",
   "execution_count": 8,
   "metadata": {
    "scrolled": false
   },
   "outputs": [],
   "source": [
    "#graph_skelton.edata['edge_weights'][graph_skelton.edge_id(1,2)]"
   ]
  },
  {
   "cell_type": "markdown",
   "metadata": {},
   "source": [
    "### reverse the graph "
   ]
  },
  {
   "cell_type": "code",
   "execution_count": 9,
   "metadata": {},
   "outputs": [],
   "source": [
    "#reversing the graph for easy message passing work\n",
    "rg =graph_skelton.reverse(share_ndata=True, share_edata=True)"
   ]
  },
  {
   "cell_type": "code",
   "execution_count": 10,
   "metadata": {},
   "outputs": [],
   "source": [
    "#rg.edata['edge_weights'][rg.edge_id(1, 0)] = 555"
   ]
  },
  {
   "cell_type": "code",
   "execution_count": 11,
   "metadata": {},
   "outputs": [],
   "source": [
    "#graph_skelton= rg.reverse(share_ndata=True, share_edata=True)"
   ]
  },
  {
   "cell_type": "code",
   "execution_count": 12,
   "metadata": {},
   "outputs": [],
   "source": [
    "#graph_skelton.edata['edge_weights']"
   ]
  },
  {
   "cell_type": "markdown",
   "metadata": {},
   "source": [
    "### message passing functions"
   ]
  },
  {
   "cell_type": "code",
   "execution_count": 13,
   "metadata": {},
   "outputs": [],
   "source": [
    "def pagerank_message_func(edges):\n",
    "    return {'sumof_edge_weights_mpvalue' : edges.data['edge_weights'] + edges.src['mp_value']}"
   ]
  },
  {
   "cell_type": "code",
   "execution_count": 14,
   "metadata": {},
   "outputs": [],
   "source": [
    "DAMP = 1  # damping factor\n",
    "def pagerank_reduce_func(nodes):\n",
    "    msgs = torch.sum(nodes.mailbox['sumof_edge_weights_mpvalue'], dim=1)\n",
    "    mp_value = DAMP * msgs\n",
    "    return {'mp_value' : mp_value}"
   ]
  },
  {
   "cell_type": "code",
   "execution_count": 15,
   "metadata": {},
   "outputs": [],
   "source": [
    "# register the above message and reduce function to the reversed graph\n",
    "rg.register_message_func(pagerank_message_func)\n",
    "rg.register_reduce_func(pagerank_reduce_func)"
   ]
  },
  {
   "cell_type": "code",
   "execution_count": 16,
   "metadata": {
    "scrolled": true
   },
   "outputs": [
    {
     "name": "stdout",
     "output_type": "stream",
     "text": [
      "tensor([10., 20., 60., 50., 80.,  0., 70., 10., 60.,  0.])\n",
      "tensor([ 30.,  80., 180., 130.,  80.,   0.,  80.,  70., 130.,   0.])\n",
      "tensor([ 90., 200., 270., 130.,  80.,   0., 140., 140., 140.,   0.])\n",
      "tensor([210., 290., 330., 130.,  80.,   0., 210., 150., 200.,   0.])\n",
      "tensor([300., 350., 400., 130.,  80.,   0., 220., 210., 270.,   0.])\n",
      "tensor([360., 420., 410., 130.,  80.,   0., 280., 280., 280.,   0.])\n",
      "tensor([430., 430., 470., 130.,  80.,   0., 350., 290., 340.,   0.])\n",
      "tensor([440., 490., 540., 130.,  80.,   0., 360., 350., 410.,   0.])\n",
      "tensor([500., 560., 550., 130.,  80.,   0., 420., 420., 420.,   0.])\n",
      "tensor([570., 570., 610., 130.,  80.,   0., 490., 430., 480.,   0.])\n"
     ]
    },
    {
     "name": "stderr",
     "output_type": "stream",
     "text": [
      "..\\torch\\csrc\\utils\\python_arg_parser.cpp:756: UserWarning: This overload of nonzero is deprecated:\n",
      "\tnonzero(Tensor input, *, Tensor out)\n",
      "Consider using one of the following signatures instead:\n",
      "\tnonzero(Tensor input, *, bool as_tuple)\n"
     ]
    }
   ],
   "source": [
    "# Iterate k times of message passing\n",
    "K=10\n",
    "for k in range(K):\n",
    "    rg.send(rg.edges())\n",
    "    rg.recv(rg.nodes())\n",
    "    print(rg.ndata['mp_value'])"
   ]
  },
  {
   "cell_type": "code",
   "execution_count": 17,
   "metadata": {},
   "outputs": [],
   "source": [
    "graph_skelton= rg.reverse(share_ndata=True, share_edata=True)"
   ]
  },
  {
   "cell_type": "code",
   "execution_count": 18,
   "metadata": {},
   "outputs": [
    {
     "data": {
      "text/plain": [
       "tensor([570., 570., 610., 130.,  80.,   0., 490., 430., 480.,   0.])"
      ]
     },
     "execution_count": 18,
     "metadata": {},
     "output_type": "execute_result"
    }
   ],
   "source": [
    "graph_skelton.ndata['mp_value']"
   ]
  },
  {
   "cell_type": "markdown",
   "metadata": {},
   "source": [
    "### traversing through the graph to find the optimum path"
   ]
  },
  {
   "cell_type": "code",
   "execution_count": 19,
   "metadata": {},
   "outputs": [],
   "source": [
    "#graph_skelton.nodes( max(graph_skelton.ndata['pv']) )"
   ]
  },
  {
   "cell_type": "code",
   "execution_count": 20,
   "metadata": {},
   "outputs": [],
   "source": [
    "src, dst, eid = graph_skelton.out_edges(2,'all')"
   ]
  },
  {
   "cell_type": "code",
   "execution_count": 21,
   "metadata": {},
   "outputs": [],
   "source": [
    "# final transaction history between security accounts\n",
    "\n",
    "source_nodes=[]\n",
    "destination_nodes=[]\n",
    "Amount_list=[]"
   ]
  },
  {
   "cell_type": "code",
   "execution_count": 22,
   "metadata": {},
   "outputs": [],
   "source": [
    "# check the other available nodes from current node\n",
    "\n",
    "def next_possible_nodes(graph, current_node):\n",
    "    src, dst, eid = graph.out_edges(current_node,'all')\n",
    "    if len(dst) !=0:\n",
    "        dst.sort()\n",
    "        possible_nodes= dst.tolist()\n",
    "    else:\n",
    "        possible_nodes=[]\n",
    "    \n",
    "    return possible_nodes\n"
   ]
  },
  {
   "cell_type": "code",
   "execution_count": 23,
   "metadata": {
    "scrolled": true
   },
   "outputs": [
    {
     "data": {
      "text/plain": [
       "[3, 6]"
      ]
     },
     "execution_count": 23,
     "metadata": {},
     "output_type": "execute_result"
    }
   ],
   "source": [
    "next_possible_nodes(graph_skelton,2)"
   ]
  },
  {
   "cell_type": "code",
   "execution_count": 24,
   "metadata": {},
   "outputs": [],
   "source": [
    "#transaction between two accounts\n",
    "\n",
    "def transaction(graph, src, dst, amount):\n",
    "    source_nodes.append(src)\n",
    "    destination_nodes.append(dst)\n",
    "    Amount_list.append(amount)\n",
    "    \n",
    "    graph.nodes[src].data['balance'] = graph.nodes[src].data['balance'] - amount\n",
    "    graph.nodes[dst].data['balance'] = graph.nodes[dst].data['balance'] + amount\n",
    "    graph.remove_edges([graph.edge_id(src,dst)])\n",
    "    "
   ]
  },
  {
   "cell_type": "code",
   "execution_count": 25,
   "metadata": {},
   "outputs": [],
   "source": [
    "# node_path=[]\n",
    "\n",
    "# def choose_next_node(graph, current_node):\n",
    "#     src, dst, eid = graph.out_edges(current_node,'all')\n",
    "#     max_val=0\n",
    "#     for dst_node in dst:\n",
    "#         print(graph.nodes[dst_node].data['pv'])\n",
    "#         if graph.nodes[dst_node].data['pv'] > max_val:\n",
    "#             max_val = graph.nodes[dst_node].data['pv']\n",
    "#             max_node = dst_node\n",
    "\n",
    "#     node_path.append(max_node)\n",
    "\n",
    "# choose_next_node(graph_skelton,2)"
   ]
  },
  {
   "cell_type": "code",
   "execution_count": 26,
   "metadata": {},
   "outputs": [],
   "source": [
    "## change the praph_skelton from get_pv() method\n",
    "def get_pv(e):\n",
    "    return graph_skelton.nodes[e].data['mp_value']\n"
   ]
  },
  {
   "cell_type": "code",
   "execution_count": 27,
   "metadata": {},
   "outputs": [],
   "source": [
    "## a graph walk using a recursive function\n",
    "## walk from a given node through possible nodes\n",
    "def graph_walk(graph, current_node):\n",
    "    \n",
    "    n_p_nodes = next_possible_nodes(graph, current_node)\n",
    "    \n",
    "    if n_p_nodes:\n",
    "        n_p_nodes.sort(reverse=True, key= get_pv)\n",
    "        \n",
    "        for next_node in n_p_nodes:\n",
    "                   \n",
    "            amount = graph.edata['edge_weights'][graph.edge_id(current_node, next_node)]\n",
    "            if graph.nodes[current_node].data['balance'] >= amount:\n",
    "                print('from node ' , current_node , ' to ' , next_node , ' | amount = ', amount)\n",
    "                transaction(graph, current_node, next_node, amount)\n",
    "                graph_walk(graph,next_node)\n",
    "            \n",
    "            elif graph.nodes[current_node].data['balance'] >0:\n",
    "                print('from node ' , current_node , ' to ' , next_node , ' | amount = ', graph.nodes[current_node].data['balance'][0])\n",
    "                transaction(graph, current_node, next_node, graph.nodes[current_node].data['balance'][0])\n",
    "                graph_walk(graph,next_node)\n",
    "    \n"
   ]
  },
  {
   "cell_type": "code",
   "execution_count": 28,
   "metadata": {},
   "outputs": [],
   "source": [
    "# finding out-degree vertices with high mp_value\n",
    "\n",
    "def find_out_degree_nodes(graph_skelton):\n",
    "    out_degree_nodes= graph_skelton.edges()[0]\n",
    "    out_degree_nodes= out_degree_nodes.tolist()\n",
    "    out_degree_nodes= list(set(out_degree_nodes))\n",
    "    out_degree_nodes.sort(reverse=True, key= get_pv)\n",
    "    return out_degree_nodes\n"
   ]
  },
  {
   "cell_type": "code",
   "execution_count": 29,
   "metadata": {},
   "outputs": [],
   "source": [
    "# state=True\n",
    "# while state:\n",
    "#     out_degree_nodes= find_out_degree_nodes(graph_skelton)\n",
    "#     graph_walk(graph_skelton, out_degree_nodes[0])\n",
    "#     if out_degree_nodes == find_out_degree_nodes(graph_skelton):\n",
    "#         state = False\n"
   ]
  },
  {
   "cell_type": "code",
   "execution_count": 31,
   "metadata": {
    "scrolled": true
   },
   "outputs": [
    {
     "name": "stdout",
     "output_type": "stream",
     "text": [
      "from node  0  to  1  | amount =  tensor(10.)\n",
      "from node  1  to  2  | amount =  tensor(20.)\n",
      "from node  2  to  6  | amount =  tensor(20.)\n",
      "from node  6  to  7  | amount =  tensor(50.)\n",
      "from node  7  to  8  | amount =  tensor(10.)\n",
      "from node  8  to  6  | amount =  tensor(20.)\n",
      "from node  3  to  4  | amount =  tensor(50.)\n",
      "from node  4  to  5  | amount =  tensor(60.)\n"
     ]
    }
   ],
   "source": [
    "## A walk through entire graph by selecting a siutable starting node.\n",
    "\n",
    "out_degree_nodes = find_out_degree_nodes(graph_skelton)\n",
    "out_degrees_without_balance_zero = [x for x in out_degree_nodes if graph_skelton.nodes[x].data['balance']>0 ]\n",
    "while len(out_degrees_without_balance_zero) !=0:\n",
    "    graph_walk(graph_skelton, out_degrees_without_balance_zero[0])\n",
    "    out_degree_nodes= find_out_degree_nodes(graph_skelton)\n",
    "    out_degrees_without_balance_zero = [x for x in out_degree_nodes if graph_skelton.nodes[x].data['balance']>0 ]\n"
   ]
  },
  {
   "cell_type": "code",
   "execution_count": 32,
   "metadata": {},
   "outputs": [
    {
     "data": {
      "text/plain": [
       "0"
      ]
     },
     "execution_count": 32,
     "metadata": {},
     "output_type": "execute_result"
    }
   ],
   "source": [
    "len(out_degrees_without_balance_zero)"
   ]
  },
  {
   "cell_type": "code",
   "execution_count": 29,
   "metadata": {},
   "outputs": [],
   "source": [
    "#graph_skelton.edata['edge_weights'][graph_skelton.edge_id(6, 7)]"
   ]
  },
  {
   "cell_type": "code",
   "execution_count": 39,
   "metadata": {},
   "outputs": [
    {
     "data": {
      "text/plain": [
       "[0, 1, 2, 6, 7, 8, 2, 3, 4]"
      ]
     },
     "execution_count": 39,
     "metadata": {},
     "output_type": "execute_result"
    }
   ],
   "source": [
    "# transaction from\n",
    "source_nodes"
   ]
  },
  {
   "cell_type": "code",
   "execution_count": 33,
   "metadata": {},
   "outputs": [
    {
     "data": {
      "text/plain": [
       "[1, 2, 6, 7, 8, 6, 3, 4, 5]"
      ]
     },
     "execution_count": 33,
     "metadata": {},
     "output_type": "execute_result"
    }
   ],
   "source": [
    "# transation to\n",
    "destination_nodes"
   ]
  },
  {
   "cell_type": "code",
   "execution_count": 34,
   "metadata": {
    "scrolled": true
   },
   "outputs": [
    {
     "data": {
      "text/plain": [
       "[tensor(10.),\n",
       " tensor(20.),\n",
       " tensor(20.),\n",
       " tensor(50.),\n",
       " tensor(10.),\n",
       " tensor(20.),\n",
       " tensor(40.),\n",
       " tensor(50.),\n",
       " tensor(60.)]"
      ]
     },
     "execution_count": 34,
     "metadata": {},
     "output_type": "execute_result"
    }
   ],
   "source": [
    "# transaction amount\n",
    "Amount_list"
   ]
  },
  {
   "cell_type": "code",
   "execution_count": 35,
   "metadata": {
    "scrolled": true
   },
   "outputs": [
    {
     "data": {
      "text/plain": [
       "tensor([0.])"
      ]
     },
     "execution_count": 35,
     "metadata": {},
     "output_type": "execute_result"
    }
   ],
   "source": [
    "#th.tensor([20.0,100.0,90.0,40.0,10.0,50.0,30.0,70.0,10.0,30.0])\n",
    "graph_skelton.nodes[8].data['balance']"
   ]
  },
  {
   "cell_type": "code",
   "execution_count": 36,
   "metadata": {},
   "outputs": [
    {
     "data": {
      "image/png": "[encoded data removed]",
      "text/plain": [
       "<Figure size 432x288 with 1 Axes>"
      ]
     },
     "metadata": {},
     "output_type": "display_data"
    }
   ],
   "source": [
    "nx.draw(graph_skelton.to_networkx(), with_labels=True)\n",
    "plt.show()"
   ]
  },
  {
   "cell_type": "code",
   "execution_count": null,
   "metadata": {},
   "outputs": [],
   "source": []
  },
  {
   "cell_type": "code",
   "execution_count": null,
   "metadata": {
    "scrolled": true
   },
   "outputs": [],
   "source": []
  }
 ],
 "metadata": {
  "kernelspec": {
   "display_name": "Python 3",
   "language": "python",
   "name": "python3"
  },
  "language_info": {
   "codemirror_mode": {
    "name": "ipython",
    "version": 3
   },
   "file_extension": ".py",
   "mimetype": "text/x-python",
   "name": "python",
   "nbconvert_exporter": "python",
   "pygments_lexer": "ipython3",
   "version": "3.7.7"
  }
 },
 "nbformat": 4,
 "nbformat_minor": 4
}
