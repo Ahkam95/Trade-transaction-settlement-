{
 "cells": [
  {
   "cell_type": "code",
   "execution_count": 1,
   "metadata": {},
   "outputs": [
    {
     "name": "stderr",
     "output_type": "stream",
     "text": [
      "Using backend: pytorch\n"
     ]
    }
   ],
   "source": [
    "import networkx as nx\n",
    "import dgl\n",
    "import torch\n",
    "import matplotlib.pyplot as plt"
   ]
  },
  {
   "cell_type": "code",
   "execution_count": 2,
   "metadata": {},
   "outputs": [],
   "source": [
    "import torch as th\n",
    "import numpy as np\n",
    "import scipy.sparse as spp\n",
    "\n",
    "# Create the same graph from a list of integer pairs.\n",
    "elist = [(0, 1),(1, 2),(2, 3),(2,6), (3, 4),(4, 5),(6, 7),(7, 8),(8, 6),(8, 9)]\n",
    "graph_skelton = dgl.DGLGraph(elist)"
   ]
  },
  {
   "cell_type": "code",
   "execution_count": 4,
   "metadata": {
    "scrolled": true
   },
   "outputs": [
    {
     "data": {
      "image/png": "[encoded data removed]",
      "text/plain": [
       "<Figure size 432x288 with 1 Axes>"
      ]
     },
     "metadata": {},
     "output_type": "display_data"
    }
   ],
   "source": [
    "# Visualize the graph.\n",
    "#graph_skelton.add_edges([9, 0])\n",
    "nx.draw(graph_skelton.to_networkx(), with_labels=True)\n",
    "plt.show()"
   ]
  },
  {
   "cell_type": "code",
   "execution_count": 5,
   "metadata": {},
   "outputs": [],
   "source": [
    "x = th.tensor([10,20,40,20,50,80,70,10,40,20])\n",
    "graph_skelton.edata['edge_weights'] = x"
   ]
  },
  {
   "cell_type": "code",
   "execution_count": 6,
   "metadata": {},
   "outputs": [],
   "source": [
    "y = th.tensor([0,0,0,0,0,0,0,0,0,0])\n",
    "graph_skelton.ndata['pv'] = y"
   ]
  },
  {
   "cell_type": "code",
   "execution_count": 127,
   "metadata": {},
   "outputs": [],
   "source": [
    "account_balance = th.tensor([20,100,90,40,10,50,30,70,10,30])\n",
    "graph_skelton.ndata['balance'] = account_balance"
   ]
  },
  {
   "cell_type": "code",
   "execution_count": 6,
   "metadata": {},
   "outputs": [],
   "source": [
    "#graph_skelton.edata['edge_weights'][graph_skelton.edge_id(0, 1)] = 5"
   ]
  },
  {
   "cell_type": "code",
   "execution_count": 5,
   "metadata": {
    "scrolled": false
   },
   "outputs": [],
   "source": [
    "#graph_skelton.edata['edge_weights'][graph_skelton.edge_id(1,2)]"
   ]
  },
  {
   "cell_type": "markdown",
   "metadata": {},
   "source": [
    "### reverse the graph "
   ]
  },
  {
   "cell_type": "code",
   "execution_count": 7,
   "metadata": {},
   "outputs": [],
   "source": [
    "rg =graph_skelton.reverse(share_ndata=True, share_edata=True)"
   ]
  },
  {
   "cell_type": "code",
   "execution_count": 12,
   "metadata": {},
   "outputs": [],
   "source": [
    "#rg.edata['edge_weights'][rg.edge_id(1, 0)] = 555"
   ]
  },
  {
   "cell_type": "code",
   "execution_count": 13,
   "metadata": {},
   "outputs": [],
   "source": [
    "#graph_skelton= rg.reverse(share_ndata=True, share_edata=True)"
   ]
  },
  {
   "cell_type": "code",
   "execution_count": 14,
   "metadata": {},
   "outputs": [],
   "source": [
    "#graph_skelton.edata['edge_weights']"
   ]
  },
  {
   "cell_type": "code",
   "execution_count": null,
   "metadata": {},
   "outputs": [],
   "source": []
  },
  {
   "cell_type": "code",
   "execution_count": null,
   "metadata": {},
   "outputs": [],
   "source": []
  },
  {
   "cell_type": "code",
   "execution_count": 15,
   "metadata": {},
   "outputs": [],
   "source": [
    "# def pagerank_message_func2(graph):\n",
    "    \n",
    "#     list = graph.successors(graph.nodes())\n",
    "#     sum=0\n",
    "    \n",
    "#     for node in graph.nodes():\n",
    "#         sum=0\n",
    "        \n",
    "        \n",
    "#     for succ in list:\n",
    "#         sum= sum+ graph.edata['edge_weights'][graph.edge_ids(graph.nodes(), succ)]\n",
    "\n",
    "#     #out_edge_weights=sum(graph.edata['edge_weights'][graph.edge_ids(graph.nodes(), graph.successors(graph.nodes())) ])\n",
    "        \n",
    "#     return {'edge_weights' : graph.edata['edge_weights'] }"
   ]
  },
  {
   "cell_type": "markdown",
   "metadata": {},
   "source": [
    "### message passing functions"
   ]
  },
  {
   "cell_type": "code",
   "execution_count": 16,
   "metadata": {},
   "outputs": [],
   "source": [
    "def pagerank_message_func(edges):\n",
    "    return {'edge_weights' : edges.data['edge_weights'] + edges.src['pv']}"
   ]
  },
  {
   "cell_type": "code",
   "execution_count": 18,
   "metadata": {},
   "outputs": [],
   "source": [
    "DAMP = 0.8  # damping factor\n",
    "def pagerank_reduce_func(nodes):\n",
    "    msgs = torch.sum(nodes.mailbox['edge_weights'], dim=1)\n",
    "    pv = DAMP * msgs\n",
    "    return {'pv' : pv}"
   ]
  },
  {
   "cell_type": "code",
   "execution_count": 19,
   "metadata": {},
   "outputs": [],
   "source": [
    "# register the above message and reduce function to the reversed graph\n",
    "rg.register_message_func(pagerank_message_func)\n",
    "rg.register_reduce_func(pagerank_reduce_func)"
   ]
  },
  {
   "cell_type": "code",
   "execution_count": 68,
   "metadata": {},
   "outputs": [
    {
     "name": "stdout",
     "output_type": "stream",
     "text": [
      "tensor([1690, 1690, 1730,  130,   80,    0, 1610, 1550, 1600,    0])\n",
      "tensor([1700, 1750, 1800,  130,   80,    0, 1620, 1610, 1670,    0])\n",
      "tensor([1760, 1820, 1810,  130,   80,    0, 1680, 1680, 1680,    0])\n",
      "tensor([1830, 1830, 1870,  130,   80,    0, 1750, 1690, 1740,    0])\n",
      "tensor([1840, 1890, 1940,  130,   80,    0, 1760, 1750, 1810,    0])\n",
      "tensor([1900, 1960, 1950,  130,   80,    0, 1820, 1820, 1820,    0])\n",
      "tensor([1970, 1970, 2010,  130,   80,    0, 1890, 1830, 1880,    0])\n",
      "tensor([1980, 2030, 2080,  130,   80,    0, 1900, 1890, 1950,    0])\n",
      "tensor([2040, 2100, 2090,  130,   80,    0, 1960, 1960, 1960,    0])\n",
      "tensor([2110, 2110, 2150,  130,   80,    0, 2030, 1970, 2020,    0])\n"
     ]
    }
   ],
   "source": [
    "# Iterate k times of message passing\n",
    "K=10\n",
    "for k in range(K):\n",
    "    rg.send(rg.edges())\n",
    "    rg.recv(rg.nodes())\n",
    "    print(rg.ndata['pv'])"
   ]
  },
  {
   "cell_type": "code",
   "execution_count": 69,
   "metadata": {},
   "outputs": [],
   "source": [
    "graph_skelton= rg.reverse(share_ndata=True, share_edata=True)"
   ]
  },
  {
   "cell_type": "code",
   "execution_count": 70,
   "metadata": {},
   "outputs": [
    {
     "data": {
      "text/plain": [
       "tensor([2110, 2110, 2150,  130,   80,    0, 2030, 1970, 2020,    0])"
      ]
     },
     "execution_count": 70,
     "metadata": {},
     "output_type": "execute_result"
    }
   ],
   "source": [
    "graph_skelton.ndata['pv']"
   ]
  },
  {
   "cell_type": "markdown",
   "metadata": {},
   "source": [
    "### traversing through the graph to find the optimum path"
   ]
  },
  {
   "cell_type": "code",
   "execution_count": 120,
   "metadata": {},
   "outputs": [],
   "source": [
    "#graph_skelton.nodes( max(graph_skelton.ndata['pv']) )"
   ]
  },
  {
   "cell_type": "code",
   "execution_count": 101,
   "metadata": {},
   "outputs": [],
   "source": [
    "src, dst, eid = graph_skelton.out_edges(2,'all')"
   ]
  },
  {
   "cell_type": "code",
   "execution_count": 126,
   "metadata": {},
   "outputs": [
    {
     "name": "stdout",
     "output_type": "stream",
     "text": [
      "tensor([130])\n",
      "tensor([2030])\n"
     ]
    }
   ],
   "source": [
    "node_path=[]\n",
    "\n",
    "def choose_next_node(graph, current_node):\n",
    "    src, dst, eid = graph.out_edges(current_node,'all')\n",
    "    max_val=0\n",
    "    for dst_node in dst:\n",
    "        print(graph.nodes[dst_node].data['pv'])\n",
    "        if graph.nodes[dst_node].data['pv'] > max_val:\n",
    "            max_val = graph.nodes[dst_node].data['pv']\n",
    "            max_node = dst_node\n",
    "\n",
    "    node_path.append(max_node)\n",
    "\n",
    "choose_next_node(graph_skelton,2)"
   ]
  },
  {
   "cell_type": "code",
   "execution_count": 125,
   "metadata": {},
   "outputs": [
    {
     "data": {
      "text/plain": [
       "[tensor(6)]"
      ]
     },
     "execution_count": 125,
     "metadata": {},
     "output_type": "execute_result"
    }
   ],
   "source": [
    "# check the other available paths after selecting the most weighted node/edge\n",
    "\n",
    "def available_other_paths():\n",
    "    "
   ]
  },
  {
   "cell_type": "code",
   "execution_count": 90,
   "metadata": {},
   "outputs": [],
   "source": []
  },
  {
   "cell_type": "code",
   "execution_count": null,
   "metadata": {},
   "outputs": [],
   "source": []
  },
  {
   "cell_type": "code",
   "execution_count": null,
   "metadata": {},
   "outputs": [],
   "source": []
  },
  {
   "cell_type": "code",
   "execution_count": null,
   "metadata": {},
   "outputs": [],
   "source": []
  },
  {
   "cell_type": "code",
   "execution_count": null,
   "metadata": {},
   "outputs": [],
   "source": []
  },
  {
   "cell_type": "code",
   "execution_count": 104,
   "metadata": {
    "scrolled": true
   },
   "outputs": [
    {
     "data": {
      "text/plain": [
       "tensor([3])"
      ]
     },
     "execution_count": 104,
     "metadata": {},
     "output_type": "execute_result"
    }
   ],
   "source": [
    "eid_10 = graph_skelton.edge_id(1,0)\n",
    "graph_skelton.edges[eid_10].data['edge_weights']"
   ]
  },
  {
   "cell_type": "code",
   "execution_count": 117,
   "metadata": {},
   "outputs": [
    {
     "data": {
      "text/plain": [
       "tensor([0, 1, 2, 2, 3, 4, 6, 7, 8, 8])"
      ]
     },
     "execution_count": 117,
     "metadata": {},
     "output_type": "execute_result"
    }
   ],
   "source": [
    "graph_skelton.edges()[0]"
   ]
  },
  {
   "cell_type": "code",
   "execution_count": 150,
   "metadata": {},
   "outputs": [
    {
     "data": {
      "text/plain": [
       "tensor([0, 1, 2, 3, 4, 5, 6, 7, 8, 9])"
      ]
     },
     "execution_count": 150,
     "metadata": {},
     "output_type": "execute_result"
    }
   ],
   "source": [
    "graph_skelton.nodes()"
   ]
  },
  {
   "cell_type": "code",
   "execution_count": 142,
   "metadata": {},
   "outputs": [],
   "source": [
    "indexx=graph_skelton.successors(2)"
   ]
  },
  {
   "cell_type": "code",
   "execution_count": 148,
   "metadata": {},
   "outputs": [
    {
     "data": {
      "text/plain": [
       "tensor([4])"
      ]
     },
     "execution_count": 148,
     "metadata": {},
     "output_type": "execute_result"
    }
   ],
   "source": [
    "eid_10 = graph_skelton.edge_id(2, indexx[1])\n",
    "graph_skelton.edges[eid_10].data['edge_weights']"
   ]
  },
  {
   "cell_type": "code",
   "execution_count": null,
   "metadata": {},
   "outputs": [],
   "source": []
  }
 ],
 "metadata": {
  "kernelspec": {
   "display_name": "Python 3",
   "language": "python",
   "name": "python3"
  },
  "language_info": {
   "codemirror_mode": {
    "name": "ipython",
    "version": 3
   },
   "file_extension": ".py",
   "mimetype": "text/x-python",
   "name": "python",
   "nbconvert_exporter": "python",
   "pygments_lexer": "ipython3",
   "version": "3.7.7"
  }
 },
 "nbformat": 4,
 "nbformat_minor": 4
}
