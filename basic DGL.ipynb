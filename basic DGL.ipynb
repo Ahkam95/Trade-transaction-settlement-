{
 "cells": [
  {
   "cell_type": "code",
   "execution_count": 1,
   "metadata": {},
   "outputs": [
    {
     "name": "stderr",
     "output_type": "stream",
     "text": [
      "Using backend: pytorch\n"
     ]
    }
   ],
   "source": [
    "import networkx as nx\n",
    "import dgl\n",
    "import torch\n",
    "import matplotlib.pyplot as plt"
   ]
  },
  {
   "cell_type": "code",
   "execution_count": 2,
   "metadata": {},
   "outputs": [],
   "source": [
    "import torch as th\n",
    "import numpy as np\n",
    "import scipy.sparse as spp\n",
    "\n",
    "# Create the same graph from a list of integer pairs.\n",
    "elist = [(0, 1),(1, 2),(2, 3),(2,6), (3, 4),(4, 5),(6, 7),(7, 8),(8, 6),(8, 9)]\n",
    "graph_skelton = dgl.DGLGraph(elist)"
   ]
  },
  {
   "cell_type": "code",
   "execution_count": 3,
   "metadata": {
    "scrolled": true
   },
   "outputs": [
    {
     "data": {
      "image/png": "[encoded data removed]",
      "text/plain": [
       "<Figure size 432x288 with 1 Axes>"
      ]
     },
     "metadata": {},
     "output_type": "display_data"
    }
   ],
   "source": [
    "# Visualize the graph.\n",
    "#graph_skelton.add_edges([9, 0])\n",
    "nx.draw(graph_skelton.to_networkx(), with_labels=True)\n",
    "plt.show()"
   ]
  },
  {
   "cell_type": "code",
   "execution_count": 4,
   "metadata": {},
   "outputs": [],
   "source": [
    "x = th.tensor([10.0,20.0,40.0,20.0,50.0,80.0,70.0,10.0,40.0,20.0])\n",
    "graph_skelton.edata['edge_weights'] = x"
   ]
  },
  {
   "cell_type": "code",
   "execution_count": 5,
   "metadata": {},
   "outputs": [],
   "source": [
    "y = th.tensor([0.0,0.0,0.0,0.0,0.0,0.0,0.0,0.0,0.0,0.0])\n",
    "graph_skelton.ndata['pv'] = y"
   ]
  },
  {
   "cell_type": "code",
   "execution_count": 6,
   "metadata": {},
   "outputs": [],
   "source": [
    "account_balance = th.tensor([20.0,100.0,90.0,40.0,10.0,50.0,30.0,70.0,10.0,30.0])\n",
    "graph_skelton.ndata['balance'] = account_balance"
   ]
  },
  {
   "cell_type": "code",
   "execution_count": 7,
   "metadata": {},
   "outputs": [],
   "source": [
    "#graph_skelton.edata['edge_weights'][graph_skelton.edge_id(8, 6)]"
   ]
  },
  {
   "cell_type": "code",
   "execution_count": 8,
   "metadata": {
    "scrolled": false
   },
   "outputs": [],
   "source": [
    "#graph_skelton.edata['edge_weights'][graph_skelton.edge_id(1,2)]"
   ]
  },
  {
   "cell_type": "markdown",
   "metadata": {},
   "source": [
    "### reverse the graph "
   ]
  },
  {
   "cell_type": "code",
   "execution_count": 9,
   "metadata": {},
   "outputs": [],
   "source": [
    "rg =graph_skelton.reverse(share_ndata=True, share_edata=True)"
   ]
  },
  {
   "cell_type": "code",
   "execution_count": 10,
   "metadata": {},
   "outputs": [],
   "source": [
    "#rg.edata['edge_weights'][rg.edge_id(1, 0)] = 555"
   ]
  },
  {
   "cell_type": "code",
   "execution_count": 11,
   "metadata": {},
   "outputs": [],
   "source": [
    "#graph_skelton= rg.reverse(share_ndata=True, share_edata=True)"
   ]
  },
  {
   "cell_type": "code",
   "execution_count": 12,
   "metadata": {},
   "outputs": [],
   "source": [
    "#graph_skelton.edata['edge_weights']"
   ]
  },
  {
   "cell_type": "code",
   "execution_count": null,
   "metadata": {},
   "outputs": [],
   "source": []
  },
  {
   "cell_type": "code",
   "execution_count": null,
   "metadata": {},
   "outputs": [],
   "source": []
  },
  {
   "cell_type": "code",
   "execution_count": 13,
   "metadata": {},
   "outputs": [],
   "source": [
    "# def pagerank_message_func2(graph):\n",
    "    \n",
    "#     list = graph.successors(graph.nodes())\n",
    "#     sum=0\n",
    "    \n",
    "#     for node in graph.nodes():\n",
    "#         sum=0\n",
    "        \n",
    "        \n",
    "#     for succ in list:\n",
    "#         sum= sum+ graph.edata['edge_weights'][graph.edge_ids(graph.nodes(), succ)]\n",
    "\n",
    "#     #out_edge_weights=sum(graph.edata['edge_weights'][graph.edge_ids(graph.nodes(), graph.successors(graph.nodes())) ])\n",
    "        \n",
    "#     return {'edge_weights' : graph.edata['edge_weights'] }"
   ]
  },
  {
   "cell_type": "markdown",
   "metadata": {},
   "source": [
    "### message passing functions"
   ]
  },
  {
   "cell_type": "code",
   "execution_count": 14,
   "metadata": {},
   "outputs": [],
   "source": [
    "def pagerank_message_func(edges):\n",
    "    return {'edge_weights' : edges.data['edge_weights'] + edges.src['pv']}"
   ]
  },
  {
   "cell_type": "code",
   "execution_count": 15,
   "metadata": {},
   "outputs": [],
   "source": [
    "DAMP = 0.8  # damping factor\n",
    "def pagerank_reduce_func(nodes):\n",
    "    msgs = torch.sum(nodes.mailbox['edge_weights'], dim=1)\n",
    "    pv = DAMP * msgs\n",
    "    return {'pv' : pv}"
   ]
  },
  {
   "cell_type": "code",
   "execution_count": 16,
   "metadata": {},
   "outputs": [],
   "source": [
    "# register the above message and reduce function to the reversed graph\n",
    "rg.register_message_func(pagerank_message_func)\n",
    "rg.register_reduce_func(pagerank_reduce_func)"
   ]
  },
  {
   "cell_type": "code",
   "execution_count": 17,
   "metadata": {
    "scrolled": true
   },
   "outputs": [
    {
     "name": "stdout",
     "output_type": "stream",
     "text": [
      "tensor([ 8., 16., 48., 40., 64.,  0., 56.,  8., 48.,  0.])\n",
      "tensor([ 20.8000,  54.4000, 124.8000,  91.2000,  64.0000,   0.0000,  62.4000,\n",
      "         46.4000,  92.8000,   0.0000])\n",
      "tensor([ 51.5200, 115.8400, 170.8800,  91.2000,  64.0000,   0.0000,  93.1200,\n",
      "         82.2400,  97.9200,   0.0000])\n",
      "tensor([100.6720, 152.7040, 195.4560,  91.2000,  64.0000,   0.0000, 121.7920,\n",
      "         86.3360, 122.4960,   0.0000])\n",
      "tensor([130.1632, 172.3648, 218.3936,  91.2000,  64.0000,   0.0000, 125.0688,\n",
      "        105.9968, 145.4336,   0.0000])\n",
      "tensor([145.8918, 190.7149, 221.0150,  91.2000,  64.0000,   0.0000, 140.7974,\n",
      "        124.3469, 148.0550,   0.0000])\n",
      "tensor([160.5719, 192.8120, 233.5979,  91.2000,  64.0000,   0.0000, 155.4775,\n",
      "        126.4440, 160.6380,   0.0000])\n",
      "tensor([162.2496, 202.8784, 245.3420,  91.2000,  64.0000,   0.0000, 157.1552,\n",
      "        136.5104, 172.3820,   0.0000])\n",
      "tensor([170.3027, 212.2736, 246.6842,  91.2000,  64.0000,   0.0000, 165.2083,\n",
      "        145.9056, 173.7242,   0.0000])\n",
      "tensor([177.8189, 213.3474, 253.1267,  91.2000,  64.0000,   0.0000, 172.7245,\n",
      "        146.9794, 180.1666,   0.0000])\n"
     ]
    },
    {
     "name": "stderr",
     "output_type": "stream",
     "text": [
      "..\\torch\\csrc\\utils\\python_arg_parser.cpp:756: UserWarning: This overload of nonzero is deprecated:\n",
      "\tnonzero(Tensor input, *, Tensor out)\n",
      "Consider using one of the following signatures instead:\n",
      "\tnonzero(Tensor input, *, bool as_tuple)\n"
     ]
    }
   ],
   "source": [
    "# Iterate k times of message passing\n",
    "K=10\n",
    "for k in range(K):\n",
    "    rg.send(rg.edges())\n",
    "    rg.recv(rg.nodes())\n",
    "    print(rg.ndata['pv'])"
   ]
  },
  {
   "cell_type": "code",
   "execution_count": 18,
   "metadata": {},
   "outputs": [],
   "source": [
    "graph_skelton= rg.reverse(share_ndata=True, share_edata=True)"
   ]
  },
  {
   "cell_type": "code",
   "execution_count": 19,
   "metadata": {},
   "outputs": [
    {
     "data": {
      "text/plain": [
       "tensor([177.8189, 213.3474, 253.1267,  91.2000,  64.0000,   0.0000, 172.7245,\n",
       "        146.9794, 180.1666,   0.0000])"
      ]
     },
     "execution_count": 19,
     "metadata": {},
     "output_type": "execute_result"
    }
   ],
   "source": [
    "graph_skelton.ndata['pv']"
   ]
  },
  {
   "cell_type": "markdown",
   "metadata": {},
   "source": [
    "### traversing through the graph to find the optimum path"
   ]
  },
  {
   "cell_type": "code",
   "execution_count": 20,
   "metadata": {},
   "outputs": [],
   "source": [
    "#graph_skelton.nodes( max(graph_skelton.ndata['pv']) )"
   ]
  },
  {
   "cell_type": "code",
   "execution_count": 21,
   "metadata": {},
   "outputs": [],
   "source": [
    "src, dst, eid = graph_skelton.out_edges(2,'all')"
   ]
  },
  {
   "cell_type": "code",
   "execution_count": 22,
   "metadata": {},
   "outputs": [],
   "source": [
    "# final transaction history between security accounts\n",
    "\n",
    "source_nodes=[]\n",
    "destination_nodes=[]\n",
    "Amount_list=[]"
   ]
  },
  {
   "cell_type": "code",
   "execution_count": 23,
   "metadata": {},
   "outputs": [],
   "source": [
    "# check the other available nodes from current node\n",
    "\n",
    "def next_possible_nodes(graph, current_node):\n",
    "    src, dst, eid = graph.out_edges(current_node,'all')\n",
    "    if len(dst) !=0:\n",
    "        dst.sort()\n",
    "        possible_nodes= dst.tolist()\n",
    "    else:\n",
    "        possible_nodes=[]\n",
    "    \n",
    "    return possible_nodes\n"
   ]
  },
  {
   "cell_type": "code",
   "execution_count": 24,
   "metadata": {
    "scrolled": true
   },
   "outputs": [
    {
     "data": {
      "text/plain": [
       "[3, 6]"
      ]
     },
     "execution_count": 24,
     "metadata": {},
     "output_type": "execute_result"
    }
   ],
   "source": [
    "next_possible_nodes(graph_skelton,2)"
   ]
  },
  {
   "cell_type": "code",
   "execution_count": 25,
   "metadata": {},
   "outputs": [],
   "source": [
    "#transaction between two accounts\n",
    "\n",
    "def transaction(graph, src, dst, amount):\n",
    "    source_nodes.append(src)\n",
    "    destination_nodes.append(dst)\n",
    "    Amount_list.append(amount)\n",
    "    \n",
    "    graph.nodes[src].data['balance'] = graph.nodes[src].data['balance'] - amount\n",
    "    graph.nodes[dst].data['balance'] = graph.nodes[dst].data['balance'] + amount\n",
    "    graph.remove_edges([graph.edge_id(src,dst)])\n",
    "    "
   ]
  },
  {
   "cell_type": "code",
   "execution_count": 26,
   "metadata": {},
   "outputs": [],
   "source": [
    "# node_path=[]\n",
    "\n",
    "# def choose_next_node(graph, current_node):\n",
    "#     src, dst, eid = graph.out_edges(current_node,'all')\n",
    "#     max_val=0\n",
    "#     for dst_node in dst:\n",
    "#         print(graph.nodes[dst_node].data['pv'])\n",
    "#         if graph.nodes[dst_node].data['pv'] > max_val:\n",
    "#             max_val = graph.nodes[dst_node].data['pv']\n",
    "#             max_node = dst_node\n",
    "\n",
    "#     node_path.append(max_node)\n",
    "\n",
    "# choose_next_node(graph_skelton,2)"
   ]
  },
  {
   "cell_type": "code",
   "execution_count": 27,
   "metadata": {},
   "outputs": [],
   "source": [
    "## change the praph_skelton from get_pv() method\n",
    "def get_pv(e):\n",
    "    return graph_skelton.nodes[e].data['pv']\n"
   ]
  },
  {
   "cell_type": "code",
   "execution_count": 28,
   "metadata": {},
   "outputs": [
    {
     "name": "stdout",
     "output_type": "stream",
     "text": [
      "from node  0  to  1  | amount =  tensor(10.)\n",
      "from node  1  to  2  | amount =  tensor(20.)\n",
      "from node  2  to  6  | amount =  tensor(20.)\n",
      "from node  6  to  7  | amount =  tensor(50.)\n",
      "from node  7  to  8  | amount =  tensor(10.)\n",
      "from node  8  to  6  | amount =  tensor(20.)\n",
      "from node  2  to  3  | amount =  tensor(40.)\n",
      "from node  3  to  4  | amount =  tensor(50.)\n",
      "from node  4  to  5  | amount =  tensor(60.)\n"
     ]
    }
   ],
   "source": [
    "## a graph walk using a recursive function\n",
    "\n",
    "def graph_walk(graph, current_node):\n",
    "    \n",
    "    n_p_nodes = next_possible_nodes(graph, current_node)\n",
    "    \n",
    "    if n_p_nodes:\n",
    "        n_p_nodes.sort(reverse=True, key= get_pv)\n",
    "        \n",
    "        for next_node in n_p_nodes:\n",
    "                   \n",
    "            amount = graph.edata['edge_weights'][graph.edge_id(current_node, next_node)]\n",
    "            if graph.nodes[current_node].data['balance'] >= amount:\n",
    "                print('from node ' , current_node , ' to ' , next_node , ' | amount = ', amount)\n",
    "                transaction(graph, current_node, next_node, amount)\n",
    "                graph_walk(graph,next_node)\n",
    "            \n",
    "            elif graph.nodes[current_node].data['balance'] >0:\n",
    "                print('from node ' , current_node , ' to ' , next_node , ' | amount = ', graph.nodes[current_node].data['balance'][0])\n",
    "                transaction(graph, current_node, next_node, graph.nodes[current_node].data['balance'][0])\n",
    "                graph_walk(graph,next_node)\n",
    "    \n",
    "graph_walk(graph_skelton, 0)"
   ]
  },
  {
   "cell_type": "code",
   "execution_count": 29,
   "metadata": {},
   "outputs": [],
   "source": [
    "#graph_skelton.edata['edge_weights'][graph_skelton.edge_id(6, 7)]"
   ]
  },
  {
   "cell_type": "code",
   "execution_count": 30,
   "metadata": {},
   "outputs": [
    {
     "data": {
      "text/plain": [
       "[0, 1, 2, 6, 7, 8, 2, 3, 4]"
      ]
     },
     "execution_count": 30,
     "metadata": {},
     "output_type": "execute_result"
    }
   ],
   "source": [
    "# transaction from\n",
    "source_nodes"
   ]
  },
  {
   "cell_type": "code",
   "execution_count": 31,
   "metadata": {},
   "outputs": [
    {
     "data": {
      "text/plain": [
       "[1, 2, 6, 7, 8, 6, 3, 4, 5]"
      ]
     },
     "execution_count": 31,
     "metadata": {},
     "output_type": "execute_result"
    }
   ],
   "source": [
    "# transation to\n",
    "destination_nodes"
   ]
  },
  {
   "cell_type": "code",
   "execution_count": 32,
   "metadata": {
    "scrolled": true
   },
   "outputs": [
    {
     "data": {
      "text/plain": [
       "[tensor(10.),\n",
       " tensor(20.),\n",
       " tensor(20.),\n",
       " tensor(50.),\n",
       " tensor(10.),\n",
       " tensor(20.),\n",
       " tensor(40.),\n",
       " tensor(50.),\n",
       " tensor(60.)]"
      ]
     },
     "execution_count": 32,
     "metadata": {},
     "output_type": "execute_result"
    }
   ],
   "source": [
    "# transaction amount\n",
    "Amount_list"
   ]
  },
  {
   "cell_type": "code",
   "execution_count": 33,
   "metadata": {
    "scrolled": true
   },
   "outputs": [
    {
     "data": {
      "text/plain": [
       "tensor([0.])"
      ]
     },
     "execution_count": 33,
     "metadata": {},
     "output_type": "execute_result"
    }
   ],
   "source": [
    "#th.tensor([20.0,100.0,90.0,40.0,10.0,50.0,30.0,70.0,10.0,30.0])\n",
    "graph_skelton.nodes[8].data['balance']"
   ]
  },
  {
   "cell_type": "code",
   "execution_count": 34,
   "metadata": {},
   "outputs": [
    {
     "data": {
      "image/png": "[encoded data removed]",
      "text/plain": [
       "<Figure size 432x288 with 1 Axes>"
      ]
     },
     "metadata": {},
     "output_type": "display_data"
    }
   ],
   "source": [
    "nx.draw(graph_skelton.to_networkx(), with_labels=True)\n",
    "plt.show()"
   ]
  },
  {
   "cell_type": "code",
   "execution_count": null,
   "metadata": {},
   "outputs": [],
   "source": []
  },
  {
   "cell_type": "code",
   "execution_count": null,
   "metadata": {
    "scrolled": true
   },
   "outputs": [],
   "source": []
  }
 ],
 "metadata": {
  "kernelspec": {
   "display_name": "Python 3",
   "language": "python",
   "name": "python3"
  },
  "language_info": {
   "codemirror_mode": {
    "name": "ipython",
    "version": 3
   },
   "file_extension": ".py",
   "mimetype": "text/x-python",
   "name": "python",
   "nbconvert_exporter": "python",
   "pygments_lexer": "ipython3",
   "version": "3.7.7"
  }
 },
 "nbformat": 4,
 "nbformat_minor": 4
}
